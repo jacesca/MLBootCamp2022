{
 "cells": [
  {
   "cell_type": "markdown",
   "id": "dc9fb8a7",
   "metadata": {},
   "source": [
    "# Scikit-Learn Algorithms\n",
    "\n",
    "![](../zero-to-mastery-ml/images/sklearn-ml-map.png)"
   ]
  },
  {
   "cell_type": "markdown",
   "id": "429e37ab",
   "metadata": {},
   "source": [
    "![](images/scikit-learn-classifiers.png)"
   ]
  },
  {
   "cell_type": "markdown",
   "id": "056127c3",
   "metadata": {},
   "source": [
    "![](images/scikit-learn-regressors.png)"
   ]
  },
  {
   "cell_type": "markdown",
   "id": "acdb6ea4",
   "metadata": {},
   "source": [
    "![](images/scikit-learn-metrics.png)"
   ]
  },
  {
   "cell_type": "code",
   "execution_count": null,
   "id": "0a02217c",
   "metadata": {},
   "outputs": [],
   "source": []
  }
 ],
 "metadata": {
  "kernelspec": {
   "display_name": "Python 3 (ipykernel)",
   "language": "python",
   "name": "python3"
  },
  "language_info": {
   "codemirror_mode": {
    "name": "ipython",
    "version": 3
   },
   "file_extension": ".py",
   "mimetype": "text/x-python",
   "name": "python",
   "nbconvert_exporter": "python",
   "pygments_lexer": "ipython3",
   "version": "3.10.4"
  }
 },
 "nbformat": 4,
 "nbformat_minor": 5
}
